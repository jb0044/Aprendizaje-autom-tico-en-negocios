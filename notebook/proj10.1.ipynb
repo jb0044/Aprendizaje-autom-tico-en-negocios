{
 "cells": [
  {
   "cell_type": "markdown",
   "metadata": {},
   "source": [
    "Hola Jorge! Como te va?\n",
    "\n",
    "Mi nombre es Facundo! Un gusto conocerte, seré tu revisor en este proyecto.\n",
    "\n",
    "A continuación un poco sobre la modalidad de revisión que usaremos:\n",
    "\n",
    "Cuando enccuentro un error por primera vez, simplemente lo señalaré, te dejaré encontrarlo y arreglarlo tú cuenta. Además, a lo largo del texto iré haciendo algunas observaciones sobre mejora en tu código y también haré comentarios sobre tus percepciones sobre el tema. Pero si aún no puedes realizar esta tarea, te daré una pista más precisa en la próxima iteración y también algunos ejemplos prácticos. Estaré abierto a comentarios y discusiones sobre el tema.\n",
    "\n",
    "Encontrará mis comentarios a continuación: **no los mueva, modifique ni elimine**.\n",
    "\n",
    "Puedes encontrar mis comentarios en cuadros verdes, amarillos o rojos como este:\n",
    "\n",
    "<div class=\"alert alert-block alert-success\">\n",
    "<b>Comentario del revisor.</b> <a class=\"tocSkip\"></a>\n",
    "\n",
    "Exito. Todo se ha hecho de forma exitosa.\n",
    "</div>\n",
    "\n",
    "<div class=\"alert alert-block alert-warning\">\n",
    "<b>Comentario del revisor.</b> <a class=\"tocSkip\"></a>\n",
    "\n",
    "Observación. Algunas recomendaciones.\n",
    "</div>\n",
    "\n",
    "<div class=\"alert alert-block alert-danger\">\n",
    "\n",
    "<b>Comentario del revisor.</b> <a class=\"tocSkip\"></a>\n",
    "\n",
    "Necesita arreglos. Este apartado necesita algunas correcciones. El trabajo no puede ser aceptado con comentarios rojos. \n",
    "</div>\n",
    "\n",
    "Puedes responder utilizando esto:\n",
    "\n",
    "<div class=\"alert alert-block alert-info\">\n",
    "<b>Respuesta de estudiante.</b> <a class=\"tocSkip\"></a>\n",
    "</div>"
   ]
  },
  {
   "cell_type": "markdown",
   "metadata": {},
   "source": [
    "## Descripción del proyecto\n",
    "\n",
    "Trabajas en la compañía de extracción de petróleo OilyGiant. Tu tarea es encontrar los mejores lugares donde abrir 200 pozos nuevos de petróleo.\n",
    "\n",
    "Para completar esta tarea, tendrás que realizar los siguientes pasos:\n",
    "\n",
    "    Leer los archivos con los parámetros recogidos de pozos petrolíferos en la región seleccionada: calidad de crudo y volumen de reservas.\n",
    "    Crear un modelo para predecir el volumen de reservas en pozos nuevos.\n",
    "    Elegir los pozos petrolíferos que tienen los valores estimados más altos.\n",
    "    Elegir la región con el beneficio total más alto para los pozos petrolíferos seleccionados.\n",
    "\n",
    "Tienes datos sobre muestras de crudo de tres regiones. Ya se conocen los parámetros de cada pozo petrolero de la región. Crea un modelo que ayude a elegir la región con el mayor margen de beneficio. Analiza los beneficios y riesgos potenciales utilizando la técnica bootstrapping."
   ]
  },
  {
   "cell_type": "markdown",
   "metadata": {},
   "source": [
    "## Condiciones:\n",
    "\n",
    "    Solo se debe usar la regresión lineal para el entrenamiento del modelo.\n",
    "    Al explorar la región, se lleva a cabo un estudio de 500 puntos con la selección de los mejores 200 puntos para el cálculo del beneficio.\n",
    "    El presupuesto para el desarrollo de 200 pozos petroleros es de 100 millones de dólares.\n",
    "    Un barril de materias primas genera 4.5 USD de ingresos. El ingreso de una unidad de producto es de 4500 dólares (el volumen de reservas está expresado en miles de barriles).\n",
    "    Después de la evaluación de riesgo, mantén solo las regiones con riesgo de pérdidas inferior al 2.5%. De las que se ajustan a los criterios, se debe seleccionar la región con el beneficio promedio más alto.\n",
    "\n",
    "Los datos son sintéticos: los detalles del contrato y las características del pozo no se publican."
   ]
  },
  {
   "cell_type": "markdown",
   "metadata": {},
   "source": [
    "<div class=\"alert alert-block alert-success\">\n",
    "<b>Review General. (Iteración 1) </b> <a class=\"tocSkip\"></a>\n",
    "\n",
    "\n",
    "Jorge, siempre me tomo este tiempo al inicio de tu proyecto para comentar mis apreciaciones generales de esta iteración de tu entrega. \n",
    "    \n",
    "\n",
    "Me gusta comenzar dando la bienvenida al mundo de los datos a los estudiantes, te deseo lo mejor y espero que consigas lograr tus objetivos. Personalmente me gusta brindar el siguiente consejo, \"Está bien equivocarse, es normal y es lo mejor que te puede pasar. Aprendemos de los errores y eso te hará mejor programador ya que podrás descubrir cosas a medida que avances y son estas cosas las que te darán esa experiencia para ser un gran Data Scientist\"\n",
    "    \n",
    "Ahora si yendo a esta notebook. Felicitaciones Jorge porque este ha sido un gran trabajo, has implementado en gran mayoría todo lo que se necesitaba y con un gran manejo de python. Se ha notado tu gran capacidad de manejo de las herramientas y sobre todo tu comprensión analítica de los análisis, simplemente hemos tenido un detalle que deberíamos corregir por lo cual te he dejado un comentario rojo con el contexto necesario para que lo completes.\n",
    "\n",
    "Éxitos y espero con ansias a tus correcciones en nuestra próxima iteración para probablemente poder aprobar este proyecto!\n",
    "\n",
    "Saludos Jorge!"
   ]
  },
  {
   "cell_type": "markdown",
   "metadata": {},
   "source": [
    "1- Descarga y prepara los datos. Explica el procedimiento."
   ]
  },
  {
   "cell_type": "code",
   "execution_count": 1,
   "metadata": {},
   "outputs": [],
   "source": [
    "#Importación de librerías\n",
    "import pandas as pd\n",
    "import numpy as np\n",
    "from sklearn.model_selection import train_test_split\n",
    "from sklearn.linear_model import LinearRegression\n",
    "from sklearn.metrics import mean_squared_error\n",
    "from sklearn.utils import resample\n",
    "import matplotlib.pyplot as plt\n",
    "from IPython.display import display"
   ]
  },
  {
   "cell_type": "code",
   "execution_count": 2,
   "metadata": {},
   "outputs": [],
   "source": [
    "#Se abre y examina el archivo de datos\n",
    "data_0 = pd.read_csv('/datasets/geo_data_0.csv')\n",
    "data_1 = pd.read_csv('/datasets/geo_data_1.csv')\n",
    "data_2 = pd.read_csv('/datasets/geo_data_2.csv')"
   ]
  },
  {
   "cell_type": "code",
   "execution_count": 3,
   "metadata": {},
   "outputs": [
    {
     "name": "stdout",
     "output_type": "stream",
     "text": [
      "(100000, 5)\n",
      "      id        f0        f1        f2     product\n",
      "0  txEyH  0.705745 -0.497823  1.221170  105.280062\n",
      "1  2acmU  1.334711 -0.340164  4.365080   73.037750\n",
      "2  409Wp  1.022732  0.151990  1.419926   85.265647\n",
      "3  iJLyR -0.032172  0.139033  2.978566  168.620776\n",
      "4  Xdl7t  1.988431  0.155413  4.751769  154.036647\n",
      "<class 'pandas.core.frame.DataFrame'>\n",
      "RangeIndex: 100000 entries, 0 to 99999\n",
      "Data columns (total 5 columns):\n",
      " #   Column   Non-Null Count   Dtype  \n",
      "---  ------   --------------   -----  \n",
      " 0   id       100000 non-null  object \n",
      " 1   f0       100000 non-null  float64\n",
      " 2   f1       100000 non-null  float64\n",
      " 3   f2       100000 non-null  float64\n",
      " 4   product  100000 non-null  float64\n",
      "dtypes: float64(4), object(1)\n",
      "memory usage: 3.8+ MB\n",
      "None\n"
     ]
    }
   ],
   "source": [
    "print(data_0.shape)\n",
    "print(data_0.head(5))\n",
    "print(data_0.info())"
   ]
  },
  {
   "cell_type": "code",
   "execution_count": 4,
   "metadata": {},
   "outputs": [
    {
     "name": "stdout",
     "output_type": "stream",
     "text": [
      "(100000, 5)\n",
      "      id         f0         f1        f2     product\n",
      "0  kBEdx -15.001348  -8.276000 -0.005876    3.179103\n",
      "1  62mP7  14.272088  -3.475083  0.999183   26.953261\n",
      "2  vyE1P   6.263187  -5.948386  5.001160  134.766305\n",
      "3  KcrkZ -13.081196 -11.506057  4.999415  137.945408\n",
      "4  AHL4O  12.702195  -8.147433  5.004363  134.766305\n",
      "<class 'pandas.core.frame.DataFrame'>\n",
      "RangeIndex: 100000 entries, 0 to 99999\n",
      "Data columns (total 5 columns):\n",
      " #   Column   Non-Null Count   Dtype  \n",
      "---  ------   --------------   -----  \n",
      " 0   id       100000 non-null  object \n",
      " 1   f0       100000 non-null  float64\n",
      " 2   f1       100000 non-null  float64\n",
      " 3   f2       100000 non-null  float64\n",
      " 4   product  100000 non-null  float64\n",
      "dtypes: float64(4), object(1)\n",
      "memory usage: 3.8+ MB\n",
      "None\n"
     ]
    }
   ],
   "source": [
    "print(data_1.shape)\n",
    "print(data_1.head(5))\n",
    "print(data_1.info())"
   ]
  },
  {
   "cell_type": "code",
   "execution_count": 5,
   "metadata": {},
   "outputs": [
    {
     "name": "stdout",
     "output_type": "stream",
     "text": [
      "(100000, 5)\n",
      "      id        f0        f1        f2     product\n",
      "0  fwXo0 -1.146987  0.963328 -0.828965   27.758673\n",
      "1  WJtFt  0.262778  0.269839 -2.530187   56.069697\n",
      "2  ovLUW  0.194587  0.289035 -5.586433   62.871910\n",
      "3  q6cA6  2.236060 -0.553760  0.930038  114.572842\n",
      "4  WPMUX -0.515993  1.716266  5.899011  149.600746\n",
      "<class 'pandas.core.frame.DataFrame'>\n",
      "RangeIndex: 100000 entries, 0 to 99999\n",
      "Data columns (total 5 columns):\n",
      " #   Column   Non-Null Count   Dtype  \n",
      "---  ------   --------------   -----  \n",
      " 0   id       100000 non-null  object \n",
      " 1   f0       100000 non-null  float64\n",
      " 2   f1       100000 non-null  float64\n",
      " 3   f2       100000 non-null  float64\n",
      " 4   product  100000 non-null  float64\n",
      "dtypes: float64(4), object(1)\n",
      "memory usage: 3.8+ MB\n",
      "None\n"
     ]
    }
   ],
   "source": [
    "print(data_2.shape)\n",
    "print(data_2.head(5))\n",
    "print(data_2.info())"
   ]
  },
  {
   "cell_type": "markdown",
   "metadata": {},
   "source": [
    "<div class=\"alert alert-block alert-success\">\n",
    "<b>Comentario del revisor.</b> <a class=\"tocSkip\"></a>\n",
    "\n",
    "Excelente carga de los datos manteniendolos por separados de las importaciones de librerías como así la implementación de métodos para profundizar en la comprensión de nuestros datos. Bien hecho!"
   ]
  },
  {
   "cell_type": "markdown",
   "metadata": {},
   "source": [
    "## Entrena y prueba el modelo para cada región en geo_data_0.csv:\n",
    "\n",
    "    Divide los datos en un conjunto de entrenamiento y un conjunto de validación en una proporción de 75:25\n",
    "\n",
    "    Entrena el modelo y haz predicciones para el conjunto de validación.\n",
    "\n",
    "    Guarda las predicciones y las respuestas correctas para el conjunto de validación.\n",
    "\n",
    "    Muestra el volumen medio de reservas predicho y RMSE del modelo.\n",
    "\n",
    "    Analiza los resultados.\n",
    "\n",
    "    Coloca todos los pasos previos en funciones, realiza y ejecuta los pasos 2.1-2.5 para los archivos 'geo_data_1.csv' y 'geo_data_2.csv'."
   ]
  },
  {
   "cell_type": "code",
   "execution_count": 6,
   "metadata": {},
   "outputs": [],
   "source": [
    "#Se establece la función para entrenamiento y evaluación del modelo\n",
    "\n",
    "#Función para entrenar y evaluar el modelo\n",
    "def train_and_evaluate(data):\n",
    "    # Dividir los datos en conjunto de entrenamiento y validación (75:25)\n",
    "    train, valid = train_test_split(data, test_size=0.25, random_state=42)\n",
    "    \n",
    "    #Separación de features y target\n",
    "    X_train = train.drop(columns=['id', 'product'])\n",
    "    y_train = train['product']\n",
    "    X_valid = valid.drop(columns=['id', 'product'])\n",
    "    y_valid = valid['product']\n",
    "    \n",
    "    # Entrenar el modelo de regresión lineal\n",
    "    model = LinearRegression()\n",
    "    model.fit(X_train, y_train)\n",
    "    \n",
    "    # Hacer predicciones\n",
    "    predictions = model.predict(X_valid)\n",
    "    \n",
    "    # Calcular el RMSE\n",
    "    rmse = mean_squared_error(y_valid, predictions, squared=False)\n",
    "    \n",
    "    # Devolver predicciones, respuestas correctas y RMSE\n",
    "    return pd.Series(predictions, index=y_valid.index), y_valid, rmse\n",
    "\n"
   ]
  },
  {
   "cell_type": "markdown",
   "metadata": {},
   "source": [
    "<div class=\"alert alert-block alert-success\">\n",
    "<b>Comentario del revisor.</b> <a class=\"tocSkip\"></a>\n",
    "\n",
    "Perfecta creación de la función Jorge, esto nos permitirá ser más ordenados con nuestro código. A la vez excelente decisión la de quitar aquella feature que no aporta valor."
   ]
  },
  {
   "cell_type": "code",
   "execution_count": 7,
   "metadata": {},
   "outputs": [],
   "source": [
    "#Entrenamiento y evaluación del modelo para cada región\n",
    "predictions_0, y_valid_0, rmse_0 = train_and_evaluate(data_0)\n",
    "predictions_1, y_valid_1, rmse_1 = train_and_evaluate(data_1)\n",
    "predictions_2, y_valid_2, rmse_2 = train_and_evaluate(data_2)"
   ]
  },
  {
   "cell_type": "code",
   "execution_count": 8,
   "metadata": {},
   "outputs": [
    {
     "name": "stdout",
     "output_type": "stream",
     "text": [
      "Región 0 - RMSE: 37.756600350261685\n",
      "Región 1 - RMSE: 0.890280100102884\n",
      "Región 2 - RMSE: 40.14587231134218\n"
     ]
    }
   ],
   "source": [
    "#Se muestran los resultados\n",
    "print(f'Región 0 - RMSE: {rmse_0}')\n",
    "print(f'Región 1 - RMSE: {rmse_1}')\n",
    "print(f'Región 2 - RMSE: {rmse_2}')"
   ]
  },
  {
   "cell_type": "markdown",
   "metadata": {},
   "source": [
    "<div class=\"alert alert-block alert-success\">\n",
    "<b>Comentario del revisor.</b> <a class=\"tocSkip\"></a>\n",
    "\n",
    "Implementación perfecta de la función a cargo de separar nuestros datos, entrenar el modelo y obtener los resultados a partir de la métrica RMSE, resultados esperados y correctos!"
   ]
  },
  {
   "cell_type": "markdown",
   "metadata": {},
   "source": [
    "<div class=\"alert alert-block alert-success\">\n",
    "<b>Comentario del revisor.</b> <a class=\"tocSkip\"></a>\n",
    "\n",
    "Excelente carga de los datos manteniendolos por separados de las importaciones de librerías como así la implementación de métodos para profundizar en la comprensión de nuestros datos. Bien hecho!"
   ]
  },
  {
   "cell_type": "code",
   "execution_count": 9,
   "metadata": {},
   "outputs": [],
   "source": [
    "#Almacenar valores necesarios para los cálculos\n",
    "BUDGET = 100e6\n",
    "NUM_WELLS = 200\n",
    "REVENUE_PER_UNIT = 4500"
   ]
  },
  {
   "cell_type": "code",
   "execution_count": 10,
   "metadata": {},
   "outputs": [
    {
     "name": "stdout",
     "output_type": "stream",
     "text": [
      "Umbral de producción mínima por pozo (en miles de barriles): 111.11\n"
     ]
    }
   ],
   "source": [
    "#Cálculo del umbral de producción mínima por pozo\n",
    "MIN_PRODUCTION = BUDGET / NUM_WELLS / REVENUE_PER_UNIT\n",
    "print(f'Umbral de producción mínima por pozo (en miles de barriles): {MIN_PRODUCTION:.2f}')"
   ]
  },
  {
   "cell_type": "code",
   "execution_count": 11,
   "metadata": {},
   "outputs": [],
   "source": [
    "def calculate_profit(predictions, target):\n",
    "    # Convertir predictions a una serie de pandas\n",
    "    predictions = pd.Series(predictions, index=target.index)\n",
    "    \n",
    "    # Asegurar que los índices estén alineados\n",
    "    predictions = predictions.sort_values(ascending=False).head(NUM_WELLS)\n",
    "    target = target.loc[predictions.index]\n",
    "    \n",
    "    # Calcular el volumen total de reservas para los 200 pozos\n",
    "    total_reserves = target.sum()\n",
    "    \n",
    "    # Calcular la ganancia total\n",
    "    revenue = total_reserves * REVENUE_PER_UNIT\n",
    "    profit = revenue - BUDGET\n",
    "    \n",
    "    return profit"
   ]
  },
  {
   "cell_type": "markdown",
   "metadata": {},
   "source": [
    "<div class=\"alert alert-block alert-success\">\n",
    "<b>Comentario del revisor.</b> <a class=\"tocSkip\"></a>\n",
    "\n",
    "Perfecto Jorge! Tal como se debía hemos tomado los top 200 pozos en base a las predicciones y de forma correcta hemos calculado la ganancia al multiplicar por la ganancia por unidad y al restar el presupuesto. Sigamos!"
   ]
  },
  {
   "cell_type": "code",
   "execution_count": 12,
   "metadata": {},
   "outputs": [
    {
     "name": "stdout",
     "output_type": "stream",
     "text": [
      "Región 0 - Ganancia: 33591411.14462179\n",
      "Región 1 - Ganancia: 24150866.966815114\n",
      "Región 2 - Ganancia: 25985717.59374112\n"
     ]
    }
   ],
   "source": [
    "#Calculo de ganancia potencial para cada región\n",
    "profit_0 = calculate_profit(predictions_0, y_valid_0)\n",
    "profit_1 = calculate_profit(predictions_1, y_valid_1)\n",
    "profit_2 = calculate_profit(predictions_2, y_valid_2)\n",
    "\n",
    "#Se muestran los resultados\n",
    "print(f'Región 0 - Ganancia: {profit_0}')\n",
    "print(f'Región 1 - Ganancia: {profit_1}')\n",
    "print(f'Región 2 - Ganancia: {profit_2}')"
   ]
  },
  {
   "cell_type": "code",
   "execution_count": 13,
   "metadata": {},
   "outputs": [
    {
     "name": "stdout",
     "output_type": "stream",
     "text": [
      "Región 0 - Beneficio medio: 5717780.598300965, Intervalo de confianza: (5717780.598300964, 5717780.598300964), Riesgo: 0.0%\n",
      "Región 1 - Beneficio medio: 9907105.175532224, Intervalo de confianza: (9907105.175532222, 9907105.175532222), Riesgo: 0.0%\n",
      "Región 2 - Beneficio medio: 1153030.501945138, Intervalo de confianza: (1153030.501945138, 1153030.501945138), Riesgo: 0.0%\n",
      "Tras evaluar las tres regiones en términos de RMSE, la Región 1 muestra el menor error con un RMSE de 0.89, lo que indica que es el modelo más preciso. Aunque la Región 0 tiene el mayor potencial de ganancia, la Región 1 con su menor RMSE podría ser una opción más confiable.\n"
     ]
    }
   ],
   "source": [
    "#Función para el cálculo de riesgo y ganancias\n",
    "def bootstrap_profit(predictions, target, n_samples=1000):\n",
    "    profits = []\n",
    "    \n",
    "    for _ in range(n_samples):\n",
    "        sample_predictions, sample_target = resample(predictions, target, random_state=42, n_samples=500)\n",
    "        sample_predictions = pd.Series(sample_predictions, index=sample_target.index)\n",
    "        profit = calculate_profit(sample_predictions, sample_target)\n",
    "        profits.append(profit)\n",
    "    \n",
    "    profits = np.array(profits)\n",
    "    lower = np.percentile(profits, 2.5)\n",
    "    upper = np.percentile(profits, 97.5)\n",
    "    mean = profits.mean()\n",
    "    risk = (profits < 0).mean() * 100\n",
    "    \n",
    "    return mean, (lower, upper), risk\n",
    "\n",
    "#Cálculo de riesgo y ganancias para cada región\n",
    "mean_0, conf_interval_0, risk_0 = bootstrap_profit(predictions_0, y_valid_0)\n",
    "mean_1, conf_interval_1, risk_1 = bootstrap_profit(predictions_1, y_valid_1)\n",
    "mean_2, conf_interval_2, risk_2 = bootstrap_profit(predictions_2, y_valid_2)\n",
    "\n",
    "#Se muestran los resultados de riesgo y ganancias\n",
    "print(f'Región 0 - Beneficio medio: {mean_0}, Intervalo de confianza: {conf_interval_0}, Riesgo: {risk_0}%')\n",
    "print(f'Región 1 - Beneficio medio: {mean_1}, Intervalo de confianza: {conf_interval_1}, Riesgo: {risk_1}%')\n",
    "print(f'Región 2 - Beneficio medio: {mean_2}, Intervalo de confianza: {conf_interval_2}, Riesgo: {risk_2}%')\n",
    "\n",
    "#Conclusión\n",
    "if rmse_0 < rmse_1 and rmse_0 < rmse_2:\n",
    "    print(f'Tras evaluar las tres regiones en términos de RMSE, la Región 0 muestra el menor error con un RMSE de {rmse_0:.2f}, lo que indica que es el modelo más preciso. Aunque la Región 0 tiene el mayor potencial de ganancia y un riesgo de pérdidas inferior al 2.5%, el menor error refuerza que la Región 0 es la opción más favorable para la apertura de nuevos pozos petroleros.')\n",
    "elif rmse_1 < rmse_0 and rmse_1 < rmse_2:\n",
    "    print(f'Tras evaluar las tres regiones en términos de RMSE, la Región 1 muestra el menor error con un RMSE de {rmse_1:.2f}, lo que indica que es el modelo más preciso. Aunque la Región 0 tiene el mayor potencial de ganancia, la Región 1 con su menor RMSE podría ser una opción más confiable.')\n",
    "else:\n",
    "    print(f'Tras evaluar las tres regiones en términos de RMSE, la Región 2 muestra el menor error con un RMSE de {rmse_2:.2f}, lo que indica que es el modelo más preciso. Aunque la Región 0 tiene el mayor potencial de ganancia, la Región 2 con su menor RMSE podría ser una opción más confiable.')\n",
    "\n"
   ]
  },
  {
   "cell_type": "markdown",
   "metadata": {},
   "source": [
    "<div class=\"alert alert-block alert-danger\">\n",
    "<b>Comentario del revisor.</b> <a class=\"tocSkip\"></a>\n",
    "\n",
    "Aquí lo hemos hehco muy bien Jorge, haz en su mayoría implementado las cosas que debíamos sin embargo aún nos faltan corregir algunos aspectos. De forma correcta estamos iterando 1000 veces y calculando las ganancias sobre la muestre como a la vez luego guardandola para calcular los percentiles inferiores y superios como así el riesgo de perdida. Sin embargo, nos ha faltado un detalle y este refiere a que en cada iteración estamos resampleando (mezclando) la totalidad de los datos cuando en realidad lo que debemos hacer es tomar una muestra de datos más chica, por ejemplo 500 observaciones de muestra en cada una de las 1000 iteraciones.\n",
    "    \n",
    "    Puedes corregirlo guiandote por lo siguiente: \n",
    "    \n",
    "    data.sample(n=500, replace=True, random_state=state)\n",
    "    \n",
    "    "
   ]
  },
  {
   "cell_type": "markdown",
   "metadata": {},
   "source": [
    "## Conclusión\n",
    "\n",
    "- Una vez que se han evaluado las 3 regiones en cuestión del beneficio medio, riesgo e intervalo de confianza, la opción más atractiva para establecer nuevos pozos petroleros es la cero, ya que cuenta con un intervalo de confianza positivo y el beneficio medio más alto. Se suma también el factor que dicha región cuenta con el myor potencial de ganancia.\n",
    "\n",
    "- Aunque por otro lado la región 1 es la que cuenta con el menor RMSE, esto indica que es la opción con mayor precisión, también se evaluaron; el riesgo, beneficio medio e intervalo de confianza. Es importante tomar en cuenta lo anteriormente mencionado, ya que permite seleccionar la decisión apoyada en la precisión del modelo y no únicamente en las ganancias potenciales.\n"
   ]
  },
  {
   "cell_type": "markdown",
   "metadata": {},
   "source": [
    "<div class=\"alert alert-block alert-success\">\n",
    "<b>Comentario del revisor.</b> <a class=\"tocSkip\"></a>\n",
    "\n",
    "Quería dedicarme aquí a agradecerte Jorge por que has hecho un trabajo de exelencia, desde las implementaciones detalladas y los agregados a lo solicitado en el proyecto. Solo hemos tenidos uno detalle pero que podremosresolver sin lugar a duda."
   ]
  },
  {
   "cell_type": "code",
   "execution_count": null,
   "metadata": {},
   "outputs": [],
   "source": []
  }
 ],
 "metadata": {
  "ExecuteTimeLog": [
   {
    "duration": 5106,
    "start_time": "2024-07-09T03:49:44.733Z"
   },
   {
    "duration": 498,
    "start_time": "2024-07-09T03:50:33.518Z"
   },
   {
    "duration": 24,
    "start_time": "2024-07-09T03:51:50.899Z"
   },
   {
    "duration": 22,
    "start_time": "2024-07-09T03:52:15.913Z"
   },
   {
    "duration": 21,
    "start_time": "2024-07-09T03:52:40.760Z"
   },
   {
    "duration": 1414,
    "start_time": "2024-07-09T03:58:36.435Z"
   },
   {
    "duration": 383,
    "start_time": "2024-07-09T03:58:37.852Z"
   },
   {
    "duration": 24,
    "start_time": "2024-07-09T03:58:38.239Z"
   },
   {
    "duration": 46,
    "start_time": "2024-07-09T03:58:38.267Z"
   },
   {
    "duration": 22,
    "start_time": "2024-07-09T03:58:38.316Z"
   },
   {
    "duration": 6,
    "start_time": "2024-07-09T03:58:38.341Z"
   },
   {
    "duration": 9,
    "start_time": "2024-07-09T04:00:57.152Z"
   },
   {
    "duration": 4985,
    "start_time": "2024-07-09T19:44:12.182Z"
   },
   {
    "duration": 488,
    "start_time": "2024-07-09T19:44:17.170Z"
   },
   {
    "duration": 25,
    "start_time": "2024-07-09T19:44:17.661Z"
   },
   {
    "duration": 22,
    "start_time": "2024-07-09T19:44:17.706Z"
   },
   {
    "duration": 21,
    "start_time": "2024-07-09T19:44:17.731Z"
   },
   {
    "duration": 7,
    "start_time": "2024-07-09T19:44:17.756Z"
   },
   {
    "duration": 1480,
    "start_time": "2024-07-09T19:44:38.328Z"
   },
   {
    "duration": 377,
    "start_time": "2024-07-09T19:44:39.812Z"
   },
   {
    "duration": 32,
    "start_time": "2024-07-09T19:44:40.191Z"
   },
   {
    "duration": 21,
    "start_time": "2024-07-09T19:44:40.228Z"
   },
   {
    "duration": 22,
    "start_time": "2024-07-09T19:44:40.251Z"
   },
   {
    "duration": 36,
    "start_time": "2024-07-09T19:44:40.276Z"
   },
   {
    "duration": 1409,
    "start_time": "2024-07-09T19:55:47.652Z"
   },
   {
    "duration": 369,
    "start_time": "2024-07-09T19:55:49.065Z"
   },
   {
    "duration": 24,
    "start_time": "2024-07-09T19:55:49.436Z"
   },
   {
    "duration": 47,
    "start_time": "2024-07-09T19:55:49.465Z"
   },
   {
    "duration": 21,
    "start_time": "2024-07-09T19:55:49.517Z"
   },
   {
    "duration": 7,
    "start_time": "2024-07-09T19:55:49.541Z"
   },
   {
    "duration": 261,
    "start_time": "2024-07-09T19:55:49.552Z"
   },
   {
    "duration": 4,
    "start_time": "2024-07-09T19:55:49.816Z"
   },
   {
    "duration": 5013,
    "start_time": "2024-07-09T20:39:42.580Z"
   },
   {
    "duration": 503,
    "start_time": "2024-07-09T20:39:47.597Z"
   },
   {
    "duration": 28,
    "start_time": "2024-07-09T20:39:48.103Z"
   },
   {
    "duration": 22,
    "start_time": "2024-07-09T20:39:48.135Z"
   },
   {
    "duration": 58,
    "start_time": "2024-07-09T20:39:48.160Z"
   },
   {
    "duration": 7,
    "start_time": "2024-07-09T20:39:48.220Z"
   },
   {
    "duration": 297,
    "start_time": "2024-07-09T20:39:48.231Z"
   },
   {
    "duration": 81,
    "start_time": "2024-07-09T20:39:48.532Z"
   },
   {
    "duration": 17,
    "start_time": "2024-07-09T20:39:48.616Z"
   },
   {
    "duration": 5,
    "start_time": "2024-07-09T20:39:48.709Z"
   },
   {
    "duration": 5149,
    "start_time": "2024-07-09T21:43:54.558Z"
   },
   {
    "duration": 503,
    "start_time": "2024-07-09T21:43:59.711Z"
   },
   {
    "duration": 29,
    "start_time": "2024-07-09T21:44:00.218Z"
   },
   {
    "duration": 49,
    "start_time": "2024-07-09T21:44:00.253Z"
   },
   {
    "duration": 25,
    "start_time": "2024-07-09T21:44:00.305Z"
   },
   {
    "duration": 6,
    "start_time": "2024-07-09T21:44:00.334Z"
   },
   {
    "duration": 367,
    "start_time": "2024-07-09T21:44:00.344Z"
   },
   {
    "duration": 87,
    "start_time": "2024-07-09T21:44:00.714Z"
   },
   {
    "duration": 3,
    "start_time": "2024-07-09T21:44:00.805Z"
   },
   {
    "duration": 4,
    "start_time": "2024-07-09T21:44:00.813Z"
   },
   {
    "duration": 80,
    "start_time": "2024-07-09T21:44:00.820Z"
   },
   {
    "duration": 19,
    "start_time": "2024-07-09T21:44:00.905Z"
   },
   {
    "duration": 27294,
    "start_time": "2024-07-09T21:48:22.041Z"
   },
   {
    "duration": 1448,
    "start_time": "2024-07-09T22:03:58.113Z"
   },
   {
    "duration": 397,
    "start_time": "2024-07-09T22:03:59.565Z"
   },
   {
    "duration": 37,
    "start_time": "2024-07-09T22:03:59.965Z"
   },
   {
    "duration": 22,
    "start_time": "2024-07-09T22:04:00.007Z"
   },
   {
    "duration": 22,
    "start_time": "2024-07-09T22:04:00.033Z"
   },
   {
    "duration": 8,
    "start_time": "2024-07-09T22:04:00.058Z"
   },
   {
    "duration": 305,
    "start_time": "2024-07-09T22:04:00.103Z"
   },
   {
    "duration": 5,
    "start_time": "2024-07-09T22:04:00.411Z"
   },
   {
    "duration": 4,
    "start_time": "2024-07-09T22:04:00.419Z"
   },
   {
    "duration": 6,
    "start_time": "2024-07-09T22:04:00.503Z"
   },
   {
    "duration": 7,
    "start_time": "2024-07-09T22:04:00.512Z"
   },
   {
    "duration": 93,
    "start_time": "2024-07-09T22:04:00.522Z"
   },
   {
    "duration": 27799,
    "start_time": "2024-07-09T22:04:00.619Z"
   },
   {
    "duration": 5246,
    "start_time": "2024-07-18T22:59:56.375Z"
   },
   {
    "duration": 575,
    "start_time": "2024-07-18T23:00:01.625Z"
   },
   {
    "duration": 27,
    "start_time": "2024-07-18T23:00:02.203Z"
   },
   {
    "duration": 23,
    "start_time": "2024-07-18T23:00:02.235Z"
   },
   {
    "duration": 55,
    "start_time": "2024-07-18T23:00:02.261Z"
   },
   {
    "duration": 8,
    "start_time": "2024-07-18T23:00:02.319Z"
   },
   {
    "duration": 373,
    "start_time": "2024-07-18T23:00:02.332Z"
   },
   {
    "duration": 5,
    "start_time": "2024-07-18T23:00:02.708Z"
   },
   {
    "duration": 81,
    "start_time": "2024-07-18T23:00:02.721Z"
   },
   {
    "duration": 5,
    "start_time": "2024-07-18T23:00:02.807Z"
   },
   {
    "duration": 7,
    "start_time": "2024-07-18T23:00:02.816Z"
   },
   {
    "duration": 89,
    "start_time": "2024-07-18T23:00:02.826Z"
   },
   {
    "duration": 550,
    "start_time": "2024-07-18T23:00:02.919Z"
   },
   {
    "duration": 6,
    "start_time": "2024-07-18T23:01:29.730Z"
   },
   {
    "duration": 1481,
    "start_time": "2024-07-18T23:02:12.254Z"
   },
   {
    "duration": 388,
    "start_time": "2024-07-18T23:02:13.738Z"
   },
   {
    "duration": 26,
    "start_time": "2024-07-18T23:02:14.129Z"
   },
   {
    "duration": 47,
    "start_time": "2024-07-18T23:02:14.159Z"
   },
   {
    "duration": 21,
    "start_time": "2024-07-18T23:02:14.211Z"
   },
   {
    "duration": 8,
    "start_time": "2024-07-18T23:02:14.235Z"
   },
   {
    "duration": 277,
    "start_time": "2024-07-18T23:02:14.247Z"
   },
   {
    "duration": 5,
    "start_time": "2024-07-18T23:02:14.603Z"
   },
   {
    "duration": 4,
    "start_time": "2024-07-18T23:02:14.611Z"
   },
   {
    "duration": 5,
    "start_time": "2024-07-18T23:02:14.618Z"
   },
   {
    "duration": 79,
    "start_time": "2024-07-18T23:02:14.625Z"
   },
   {
    "duration": 21,
    "start_time": "2024-07-18T23:02:14.708Z"
   },
   {
    "duration": 5513,
    "start_time": "2024-07-18T23:02:14.732Z"
   }
  ],
  "kernelspec": {
   "display_name": "Python 3 (ipykernel)",
   "language": "python",
   "name": "python3"
  },
  "language_info": {
   "codemirror_mode": {
    "name": "ipython",
    "version": 3
   },
   "file_extension": ".py",
   "mimetype": "text/x-python",
   "name": "python",
   "nbconvert_exporter": "python",
   "pygments_lexer": "ipython3",
   "version": "3.9.19"
  },
  "toc": {
   "base_numbering": 1,
   "nav_menu": {},
   "number_sections": true,
   "sideBar": true,
   "skip_h1_title": true,
   "title_cell": "Table of Contents",
   "title_sidebar": "Contents",
   "toc_cell": false,
   "toc_position": {},
   "toc_section_display": true,
   "toc_window_display": false
  }
 },
 "nbformat": 4,
 "nbformat_minor": 2
}
